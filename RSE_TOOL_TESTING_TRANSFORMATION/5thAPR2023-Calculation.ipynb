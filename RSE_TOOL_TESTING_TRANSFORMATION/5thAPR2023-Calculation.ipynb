{
  "nbformat": 4,
  "nbformat_minor": 0,
  "metadata": {
    "colab": {
      "provenance": [],
      "authorship_tag": "ABX9TyPGdyswXkDmgOKuu3lW38Id",
      "include_colab_link": true
    },
    "kernelspec": {
      "name": "python3",
      "display_name": "Python 3"
    },
    "language_info": {
      "name": "python"
    }
  },
  "cells": [
    {
      "cell_type": "markdown",
      "metadata": {
        "id": "view-in-github",
        "colab_type": "text"
      },
      "source": [
        "<a href=\"https://colab.research.google.com/github/Gaurav7004/-pcMeetingRoomScheduler/blob/main/RSE_TOOL_TESTING_TRANSFORMATION/5thAPR2023-Calculation.ipynb\" target=\"_parent\"><img src=\"https://colab.research.google.com/assets/colab-badge.svg\" alt=\"Open In Colab\"/></a>"
      ]
    },
    {
      "cell_type": "code",
      "execution_count": null,
      "metadata": {
        "id": "7Unai0UM4qki"
      },
      "outputs": [],
      "source": [
        "import pandas as pd\n",
        "# ! pip install pandarallel\n",
        "# from pandarallel import pandarallel\n",
        "import json\n",
        "import re"
      ]
    },
    {
      "cell_type": "code",
      "source": [
        "# pandarallel.initialize()"
      ],
      "metadata": {
        "id": "eU-feaZ5478-"
      },
      "execution_count": null,
      "outputs": []
    },
    {
      "cell_type": "code",
      "source": [
        "## Data is the dictionary\n",
        "data = {}\n",
        "\n",
        "## Keys\n",
        "key = ''\n",
        "\n",
        "## values\n",
        "values = []\n",
        "\n",
        "## Open\n",
        "with open('Example2-PPSWR.RSE', \"r\") as f:\n",
        "    for line in f:\n",
        "        line = line.strip()\n",
        "        if line.startswith('#'):\n",
        "            if key:\n",
        "                key = key.split(\"'\")[0]\n",
        "                key = key.split(\"\\t\")[0]\n",
        "                data[key] = [v for v in values if v and not v.startswith(\"'\")]\n",
        "            key = line.split(\"'\")[0]\n",
        "            key = key.split(\"\\t\")[0]\n",
        "            values = []\n",
        "        elif line.startswith(\"'\"):\n",
        "            pass\n",
        "        else:\n",
        "            line = line.split(\"'\")[0]\n",
        "            values.append(line.strip())\n",
        "\n",
        "# add last group\n",
        "if key:\n",
        "    data[key] = [v for v in values if v and not v.startswith(\"'\")]\n",
        "\n",
        "print(json.dumps(data, indent=4))"
      ],
      "metadata": {
        "colab": {
          "base_uri": "https://localhost:8080/"
        },
        "id": "hpBwg1Lp4-AC",
        "outputId": "587cbac0-e738-4a19-b321-57d98a2799c1"
      },
      "execution_count": null,
      "outputs": [
        {
          "output_type": "stream",
          "name": "stdout",
          "text": [
            "{\n",
            "    \"#SAMPLING PPSWR-SSS\": [],\n",
            "    \"#GROUP 2\": [\n",
            "        \"SEC   C sec\",\n",
            "        \"AGE_GR C NEWVAR\"\n",
            "    ],\n",
            "    \"#VARIABLE 4  \": [\n",
            "        \"YP\\tN  NEWVAR\",\n",
            "        \"YM\\tN  NEWVAR\",\n",
            "        \"YF\\tN  NEWVAR\",\n",
            "        \"YH\\tN  NEWVAR\"\n",
            "    ],\n",
            "    \"#RENAME  5    \": [\n",
            "        \"STRMID C  sec+st+strm+sstrm\",\n",
            "        \"FSU    C  fsu\",\n",
            "        \"SSS    C  sss\",\n",
            "        \"USU    C  ssu\",\n",
            "        \"NFSU   C  nfsu\",\n",
            "        \"NSS    N  nss\",\n",
            "        \"MULT   N  mult\"\n",
            "    ],\n",
            "    \"#TRANSFORM 5  \": [\n",
            "        \"AGE_Gr=\\\"01\\\" AGE<5\",\n",
            "        \"AGE_Gr=\\\"02\\\" AGE>=5 && AGE<10\",\n",
            "        \"AGE_Gr=\\\"03\\\" AGE>=10 && AGE<20\",\n",
            "        \"AGE_Gr=\\\"04\\\" AGE>=20 && AGE<60\",\n",
            "        \"AGE_Gr=\\\"05\\\" AGE>=60\",\n",
            "        \"YP=1\",\n",
            "        \"YM=1        sex<>2\",\n",
            "        \"YM=0\\t\\tOtherwise\",\n",
            "        \"YF=1        sex=2\",\n",
            "        \"YF=0\\t\\tOtherwise\",\n",
            "        \"YH=1        GEDU>=\\\"11\\\"\",\n",
            "        \"YH=0\\t\\tOtherwise\"\n",
            "    ],\n",
            "    \"#EST_RSE 7\": [\n",
            "        \"S YP\",\n",
            "        \"E 1000*YF/YM\",\n",
            "        \"R YF/YM\",\n",
            "        \"R YH\",\n",
            "        \"E 100*YH/YP\",\n",
            "        \"R YH/YP\"\n",
            "    ]\n",
            "}\n"
          ]
        }
      ]
    },
    {
      "cell_type": "code",
      "source": [
        "df = pd.read_csv('Data1.csv')"
      ],
      "metadata": {
        "colab": {
          "base_uri": "https://localhost:8080/"
        },
        "id": "bE04tV0U5KvD",
        "outputId": "f7b01d90-c8a3-4a01-8e3a-161aeeaf83ac"
      },
      "execution_count": null,
      "outputs": [
        {
          "output_type": "stream",
          "name": "stderr",
          "text": [
            "<ipython-input-3-7e89209b1ff8>:1: DtypeWarning: Columns (21) have mixed types. Specify dtype option on import or set low_memory=False.\n",
            "  df = pd.read_csv('Data1.csv')\n"
          ]
        }
      ]
    },
    {
      "cell_type": "code",
      "source": [
        "def TRANSFORM_(data):\n",
        "    # Initialize empty arrays to store the values\n",
        "    Arr1 = []\n",
        "    Arr2 = []\n",
        "    Arr3 = []\n",
        "\n",
        "    for key, value in data.items():\n",
        "        ### To read the file used\n",
        "        if str('TRANSFORM').lower() in str(key).lower():\n",
        "            lines = '\\n'.join(value)\n",
        "            print(lines)\n",
        "            lines = lines.split(\"\\n\")\n",
        "            \n",
        "\n",
        "            # Loop through the lines and extract the values\n",
        "            for line in lines:\n",
        "                line_values = line.split('=')                  # split the line into values\n",
        "                var_name = line_values[0].strip()              # extract the variable name\n",
        "                var_value = line_values[1].strip().split()[0]  # extract the variable value\n",
        "                condition = None                               # initialize the condition to None\n",
        "\n",
        "\n",
        "\n",
        "                # Append the values to the arrays\n",
        "                Arr1.append(var_name)\n",
        "                Arr2.append(var_value)\n",
        "                Arr3.append(condition)\n",
        "\n",
        "    return Arr1, Arr2, Arr3\n",
        "\n",
        "TRANSFORM_(data)"
      ],
      "metadata": {
        "colab": {
          "base_uri": "https://localhost:8080/"
        },
        "id": "Wjk1e_u85ARW",
        "outputId": "b80e1486-74e0-457e-84aa-455c59dfea81"
      },
      "execution_count": null,
      "outputs": [
        {
          "output_type": "stream",
          "name": "stdout",
          "text": [
            "AGE_Gr=\"01\" AGE<5\n",
            "AGE_Gr=\"02\" AGE>=5 && AGE<10\n",
            "AGE_Gr=\"03\" AGE>=10 && AGE<20\n",
            "AGE_Gr=\"04\" AGE>=20 && AGE<60\n",
            "AGE_Gr=\"05\" AGE>=60\n",
            "YP=1\n",
            "YM=1        sex<>2\n",
            "YM=0\t\tOtherwise\n",
            "YF=1        sex=2\n",
            "YF=0\t\tOtherwise\n",
            "YH=1        GEDU>=\"11\"\n",
            "YH=0\t\tOtherwise\n"
          ]
        },
        {
          "output_type": "execute_result",
          "data": {
            "text/plain": [
              "(['AGE_Gr',\n",
              "  'AGE_Gr',\n",
              "  'AGE_Gr',\n",
              "  'AGE_Gr',\n",
              "  'AGE_Gr',\n",
              "  'YP',\n",
              "  'YM',\n",
              "  'YM',\n",
              "  'YF',\n",
              "  'YF',\n",
              "  'YH',\n",
              "  'YH'],\n",
              " ['\"01\"', '\"02\"', '\"03\"', '\"04\"', '\"05\"', '1', '1', '0', '1', '0', '1', '0'],\n",
              " [None, None, None, None, None, None, None, None, None, None, None, None])"
            ]
          },
          "metadata": {},
          "execution_count": 4
        }
      ]
    },
    {
      "cell_type": "code",
      "source": [
        "string = ''' AGE_Gr=(\"01\") AGE<5\n",
        "AGE_Gr=(\"02\") AGE>=5 && AGE<10\n",
        "AGE_Gr=(\"03\") AGE>=10 && AGE<20\n",
        "AGE_Gr=(\"04\") AGE>=20 && AGE<60\n",
        "AGE_Gr=(\"05\") AGE>=60\n",
        "YP=(1)\n",
        "YM=(1)        sex<>2\n",
        "YM=(0)\t\tOtherwise\n",
        "YF=(1)        sex=2\n",
        "YF=(0)\t\tOtherwise\n",
        "YH=(1)        GEDU>=\"11\"\n",
        "YH=(0)\t\tOtherwise                                                                                                                                          \n",
        "newVar4=(1)  CWS in (\"11,12,21,31,41,51,61,61,71,72\")\n",
        "newVar4=(0)  CWS in (\"11,12,21,31,41,51,61,61,71,72\")\n",
        "newVar5=(1)   CWS in (\"11,12,21,31,41,51,61,61,71,72,81\")\n",
        "newVar5=(0)   CWS not in (\"11,12,21,31,41,51,61,61,71,72,81\")\n",
        "newVar6=(1)  \n",
        "newVar1=(ERN_REG + ERN_SELF)   GEDU_LVL in (\"05,06\")\n",
        "newVar1=(0) Otherwise\n",
        "newVar2=(ERN_REG + ERN_SELF)   GEDU_LVL in (\"07,08,09\")\n",
        "newVar2=(0) otherwise                                                                                            \n",
        "newVar3=(ERN_REG + ERN_SELF)   GEDU_LVL in (\"05,06,07,08,09\")\n",
        "newVar3=(0) Otherwise                                                                                                            \n",
        "ST_GR=(\"G1\")   ST in (\"10,19,20,21\")\n",
        "ST_GR=(\"G2\")   ST in (\"11,12,13,14,15,16,17,18\")\n",
        "ST_GR=(\"G3\")   Otherwise\n",
        "POP=(1)\n",
        "WRK=(1)  CWS in (\"11,12,21,31,41,51,61,61,71,72\")\n",
        "WRK=(0)  CWS NOT in (\"11,12,21,31,41,51,61,61,71,72\")\n",
        "LF=(1)      CWS in (\"11,12,21,31,41,51,61,61,71,72,81\")\n",
        "LF=(0)      Otherwise \n",
        "LF=(11)  (CWS in (”11,12,21”) OR GEDU_LVL in (”05,06”)) AND SEC=”1”\n",
        "LF=(12)  (CWS NOT in(”11,12,21”) OR GEDU_LVL in (”05,06”)) AND SEC=”1” '''"
      ],
      "metadata": {
        "id": "VCa6CjZscYOy"
      },
      "execution_count": null,
      "outputs": []
    },
    {
      "cell_type": "code",
      "source": [],
      "metadata": {
        "id": "3C8jcXAWKWR4"
      },
      "execution_count": null,
      "outputs": []
    },
    {
      "cell_type": "code",
      "source": [
        "import re\n",
        "\n",
        "# Regular expression pattern to extract the condition\n",
        "pattern = r'^\\w+=\\([^\\)]*\\)(?:\\s+(.*?)(?:\\n|$))?$'\n",
        "\n",
        "# Split the string into lines and extract the condition from each line\n",
        "conditions = []\n",
        "\n",
        "for line in string.split('\\n'):\n",
        "    match = re.match(pattern, line)\n",
        "    \n",
        "    if match:\n",
        "        print(match.group(1))\n",
        "        condition = match.group(1)\n",
        "        if condition is not None:\n",
        "            conditions.append(condition.strip())\n",
        "        else:\n",
        "            conditions.append(None)\n"
      ],
      "metadata": {
        "colab": {
          "base_uri": "https://localhost:8080/"
        },
        "id": "LroO2EWN6EI5",
        "outputId": "8e8a1792-88c4-47f7-dd51-537610a1e67a"
      },
      "execution_count": null,
      "outputs": [
        {
          "output_type": "stream",
          "name": "stdout",
          "text": [
            "AGE>=5 && AGE<10\n",
            "AGE>=10 && AGE<20\n",
            "AGE>=20 && AGE<60\n",
            "AGE>=60\n",
            "None\n",
            "sex<>2\n",
            "Otherwise\n",
            "sex=2\n",
            "Otherwise\n",
            "GEDU>=\"11\"\n",
            "Otherwise                                                                                                                                          \n",
            "CWS in (\"11,12,21,31,41,51,61,61,71,72\")\n",
            "CWS in (\"11,12,21,31,41,51,61,61,71,72\")\n",
            "CWS in (\"11,12,21,31,41,51,61,61,71,72,81\")\n",
            "CWS not in (\"11,12,21,31,41,51,61,61,71,72,81\")\n",
            "\n",
            "GEDU_LVL in (\"05,06\")\n",
            "Otherwise\n",
            "GEDU_LVL in (\"07,08,09\")\n",
            "otherwise                                                                                            \n",
            "GEDU_LVL in (\"05,06,07,08,09\")\n",
            "Otherwise                                                                                                            \n",
            "ST in (\"10,19,20,21\")\n",
            "ST in (\"11,12,13,14,15,16,17,18\")\n",
            "Otherwise\n",
            "None\n",
            "CWS in (\"11,12,21,31,41,51,61,61,71,72\")\n",
            "CWS NOT in (\"11,12,21,31,41,51,61,61,71,72\")\n",
            "CWS in (\"11,12,21,31,41,51,61,61,71,72,81\")\n",
            "Otherwise \n",
            "(CWS in (”11,12,21”) OR GEDU_LVL in (”05,06”)) AND SEC=”1”\n",
            "(CWS NOT in(”11,12,21”) OR GEDU_LVL in (”05,06”)) AND SEC=”1” \n"
          ]
        }
      ]
    },
    {
      "cell_type": "code",
      "source": [
        "def convert_query_string(query_string):\n",
        "    col_name, values_str = query_string.split(' in ')\n",
        "    values = [v.strip(\"'\") for v in values_str.strip('[]').split(',')]\n",
        "    return f\"df['{col_name}'].isin({values})\"\n",
        "\n",
        "query_string = \"CWS in ['11', '12', '21']\"\n",
        "query_string = \"(CWS in(”11,12,21”) OR GEDU_LVL in (”05,06”)) AND SEC=”1”\"\n",
        "converted_query = convert_query_string(query_string)\n",
        "print(converted_query)\n"
      ],
      "metadata": {
        "colab": {
          "base_uri": "https://localhost:8080/"
        },
        "id": "Mje6HSTN60tZ",
        "outputId": "6ccf1901-226b-43e9-88d9-d8ced25f6584"
      },
      "execution_count": null,
      "outputs": [
        {
          "output_type": "stream",
          "name": "stdout",
          "text": [
            "df['(CWS in(”11,12,21”) OR GEDU_LVL'].isin(['(”05', '06”)) AND SEC=”1”'])\n"
          ]
        }
      ]
    },
    {
      "cell_type": "code",
      "source": [
        "import re\n",
        "\n",
        "def parse_query_string(query_string):\n",
        "    # Replace curly quotes with straight quotes\n",
        "    query_string = query_string.replace(\"”\", \"\\\"\")\n",
        "    \n",
        "    # Replace 'in' operators with 'isin' and add list brackets\n",
        "    query_string = re.sub(r'(\\b\\w+\\b)\\s+in\\s*\\(([^)]+)\\)', r'df[\"\\1\"].isin([\\2])', query_string)\n",
        "\n",
        "    print(query_string)\n",
        "    \n",
        "    # Replace double quotes with single quotes\n",
        "    query_string = query_string.replace(\"\\\"\", \"'\")\n",
        "    \n",
        "    # Replace 'AND' with '&', 'OR' with '|', and add parentheses\n",
        "    query_string = query_string.replace(\" AND \", \" and \").replace(\" OR \", \" or \")\n",
        "    query_string = \"(\" + query_string + \")\"\n",
        "\n",
        "    print(query_string)\n",
        "    \n",
        "    # Replace column names with df[column] syntax\n",
        "    query_string = re.sub(r'(\\b\\w+\\b)=', r'df[\"\\1\"]==', query_string)\n",
        "    \n",
        "    return query_string\n",
        "\n",
        "\n",
        "# Test the function\n",
        "query_string = '(CWS in (”11,12,21”) AND GEDU_LVL in (”05,06”)) AND SEC=”1”'\n",
        "parsed_query = parse_query_string(query_string)\n",
        "print(parsed_query)\n",
        "\n",
        "# Output: (df['CWS'].isin(['11,12,21']) or df['GEDU_LVL'].isin(['05,06'])) and df['SEC']=='1'\n"
      ],
      "metadata": {
        "colab": {
          "base_uri": "https://localhost:8080/"
        },
        "id": "fERwFSy78FXP",
        "outputId": "787daf16-7d0a-4ff8-9719-4eaed3a7d819"
      },
      "execution_count": null,
      "outputs": [
        {
          "output_type": "stream",
          "name": "stdout",
          "text": [
            "(df[\"CWS\"].isin([\"11,12,21\"]) AND df[\"GEDU_LVL\"].isin([\"05,06\"])) AND SEC=\"1\"\n",
            "((df['CWS'].isin(['11,12,21']) and df['GEDU_LVL'].isin(['05,06'])) and SEC='1')\n",
            "((df['CWS'].isin(['11,12,21']) and df['GEDU_LVL'].isin(['05,06'])) and df[\"SEC\"]=='1')\n"
          ]
        }
      ]
    },
    {
      "cell_type": "code",
      "source": [
        "import re\n",
        "\n",
        "def parse_query_string(query_string):\n",
        "    # Replace curly quotes with straight quotes\n",
        "    query_string = query_string.replace(\"”\", \"\\\"\")\n",
        "    \n",
        "    # Replace 'in' operators with 'isin' and add list brackets\n",
        "    query_string = re.sub(r'(\\b\\w+\\b)\\s+NOT in\\s*\\(([^)]+)\\)', r'~df[\"\\1\"].isin([\\2])', query_string)\n",
        "    query_string = re.sub(r'(\\b\\w+\\b)\\s+in\\s*\\(([^)]+)\\)', r'df[\"\\1\"].isin([\\2])', query_string)\n",
        "\n",
        "    print(query_string)\n",
        "    \n",
        "    # Replace double quotes with single quotes\n",
        "    query_string = query_string.replace(\"\\\"\", \"'\")\n",
        "    \n",
        "    # Replace 'AND' with '&', 'OR' with '|', and add parentheses\n",
        "    query_string = query_string.replace(\" AND \", \" and \").replace(\" OR \", \" or \")\n",
        "    query_string = \"(\" + query_string + \")\"\n",
        "\n",
        "    print(query_string)\n",
        "    \n",
        "    # Replace column names with df[column] syntax\n",
        "    query_string = re.sub(r'(\\b\\w+\\b)=', r'df[\"\\1\"]==', query_string)\n",
        "    \n",
        "    return query_string\n",
        "\n",
        "\n",
        "# Test the function\n",
        "query_string = '(CWS NOT in (”11,12,21”) AND GEDU_LVL in (”05,06”)) AND SEC=”1”'\n",
        "parsed_query = parse_query_string(query_string)\n",
        "print(parsed_query)\n",
        "\n",
        "# Output: (df['CWS'].isin(['11,12,21']) or df['GEDU_LVL'].isin(['05,06'])) and df['SEC']=='1'\n"
      ],
      "metadata": {
        "colab": {
          "base_uri": "https://localhost:8080/"
        },
        "id": "vHS16xKEpfKP",
        "outputId": "a54e3f61-d7ff-4f2b-b685-101170db6a1a"
      },
      "execution_count": null,
      "outputs": [
        {
          "output_type": "stream",
          "name": "stdout",
          "text": [
            "(~df[\"CWS\"].isin([\"11,12,21\"]) AND df[\"GEDU_LVL\"].isin([\"05,06\"])) AND SEC=\"1\"\n",
            "((~df['CWS'].isin(['11,12,21']) and df['GEDU_LVL'].isin(['05,06'])) and SEC='1')\n",
            "((~df['CWS'].isin(['11,12,21']) and df['GEDU_LVL'].isin(['05,06'])) and df[\"SEC\"]=='1')\n"
          ]
        }
      ]
    },
    {
      "cell_type": "code",
      "source": [
        "for i in conditions:\n",
        "    if i:\n",
        "        i = i.replace(\"&&\", \"and\")\n",
        "        i = i.replace(\"AND\", \"and\")\n",
        "        i = i.replace(\"OR\", \"or\")\n",
        "        i = i.replace(\"||\", \"or\")\n",
        "        i = i.replace(\"<>\", \"!=\")\n",
        "\n",
        "        # extract the list of values from the string\n",
        "        list_string = i.split('(')[1].split('\")')[0]\n",
        "        list_values = list_string.split(',')\n",
        "\n",
        "        # create the new string\n",
        "        new_string = 'CWS in {}'.format(str(list_values))\n",
        "\n",
        "        # print the new string\n",
        "        print(new_string)\n",
        "    else:\n",
        "        pass"
      ],
      "metadata": {
        "colab": {
          "base_uri": "https://localhost:8080/",
          "height": 241
        },
        "id": "BM1zPamv7Zlk",
        "outputId": "495950c6-39ae-4d08-9367-1a9ac6b32a72"
      },
      "execution_count": null,
      "outputs": [
        {
          "output_type": "error",
          "ename": "IndexError",
          "evalue": "ignored",
          "traceback": [
            "\u001b[0;31m---------------------------------------------------------------------------\u001b[0m",
            "\u001b[0;31mIndexError\u001b[0m                                Traceback (most recent call last)",
            "\u001b[0;32m<ipython-input-11-c07c0b525746>\u001b[0m in \u001b[0;36m<cell line: 1>\u001b[0;34m()\u001b[0m\n\u001b[1;32m      8\u001b[0m \u001b[0;34m\u001b[0m\u001b[0m\n\u001b[1;32m      9\u001b[0m         \u001b[0;31m# extract the list of values from the string\u001b[0m\u001b[0;34m\u001b[0m\u001b[0;34m\u001b[0m\u001b[0m\n\u001b[0;32m---> 10\u001b[0;31m         \u001b[0mlist_string\u001b[0m \u001b[0;34m=\u001b[0m \u001b[0mi\u001b[0m\u001b[0;34m.\u001b[0m\u001b[0msplit\u001b[0m\u001b[0;34m(\u001b[0m\u001b[0;34m'('\u001b[0m\u001b[0;34m)\u001b[0m\u001b[0;34m[\u001b[0m\u001b[0;36m1\u001b[0m\u001b[0;34m]\u001b[0m\u001b[0;34m.\u001b[0m\u001b[0msplit\u001b[0m\u001b[0;34m(\u001b[0m\u001b[0;34m'\")'\u001b[0m\u001b[0;34m)\u001b[0m\u001b[0;34m[\u001b[0m\u001b[0;36m0\u001b[0m\u001b[0;34m]\u001b[0m\u001b[0;34m\u001b[0m\u001b[0;34m\u001b[0m\u001b[0m\n\u001b[0m\u001b[1;32m     11\u001b[0m         \u001b[0mlist_values\u001b[0m \u001b[0;34m=\u001b[0m \u001b[0mlist_string\u001b[0m\u001b[0;34m.\u001b[0m\u001b[0msplit\u001b[0m\u001b[0;34m(\u001b[0m\u001b[0;34m','\u001b[0m\u001b[0;34m)\u001b[0m\u001b[0;34m\u001b[0m\u001b[0;34m\u001b[0m\u001b[0m\n\u001b[1;32m     12\u001b[0m \u001b[0;34m\u001b[0m\u001b[0m\n",
            "\u001b[0;31mIndexError\u001b[0m: list index out of range"
          ]
        }
      ]
    },
    {
      "cell_type": "code",
      "source": [
        "# original string\n",
        "original_string = \n",
        "\n",
        "# extract the list of values from the string\n",
        "list_string = original_string.split('(')[1].split('\")')[0]\n",
        "list_values = list_string.split(',')\n",
        "\n",
        "# create the new string\n",
        "new_string = 'CWS in {}'.format(str(list_values))\n",
        "\n",
        "# print the new string\n",
        "print(new_string)\n"
      ],
      "metadata": {
        "id": "Eta86jpF7abM"
      },
      "execution_count": null,
      "outputs": []
    },
    {
      "cell_type": "code",
      "source": [
        "conditions[0:]"
      ],
      "metadata": {
        "id": "ZlqBJn-R0WI-"
      },
      "execution_count": null,
      "outputs": []
    },
    {
      "cell_type": "code",
      "source": [
        "# Step 1: Parse the string\n",
        "condition1 = conditions[0].split(' && ')[0]  # 'AGE>=5'\n",
        "condition2 = conditions[0].split(' && ')[1]  # 'AGE<10'\n",
        "\n",
        "column1, operator1, value1 = condition1.split(\">=\")\n",
        "value1 = int(value1.strip())  # convert the value to an integer\n",
        "\n",
        "column2, operator2, value2 = condition2.split(\"<\")\n",
        "value2 = int(value2.strip())  # convert the value to an integer\n",
        "\n",
        "# Step 2: Create a boolean mask for each condition\n",
        "mask1 = df[column1] >= value1\n",
        "mask2 = df[column2] < value2\n",
        "\n",
        "# Step 3: Combine the boolean masks using the logical \"and\" operator\n",
        "final_mask = mask1 & mask2\n",
        "\n",
        "final_mask"
      ],
      "metadata": {
        "id": "AGRNSt1X06Cl"
      },
      "execution_count": null,
      "outputs": []
    },
    {
      "cell_type": "code",
      "source": [
        "for condition in conditions:\n",
        "    if condition is None or condition == 'Otherwise' or condition == '':\n",
        "        # Skip null or \"Otherwise\" conditions\n",
        "        continue\n",
        "    \n",
        "    elif '&&' in condition:\n",
        "        # Condition contains multiple expressions joined by logical \"and\"\n",
        "        expressions = condition.split(' && ')\n",
        "        masks = []\n",
        "        for expression in expressions:\n",
        "            column, operator, value = expression.split()\n",
        "            if operator == '>=':\n",
        "                mask = df[column] >= int(value)\n",
        "            elif operator == '<':\n",
        "                mask = df[column] < int(value)\n",
        "            elif operator == '<=':\n",
        "                mask = df[column] <= int(value)\n",
        "            elif operator == '>':\n",
        "                mask = df[column] > int(value)\n",
        "            else:\n",
        "                raise ValueError(f'Invalid operator: {operator}')\n",
        "            masks.append(mask)\n",
        "        final_mask = masks[0] & masks[1]\n",
        "        for mask in masks[2:]:\n",
        "            final_mask &= mask\n",
        "    \n",
        "    elif 'not' in condition.lower():\n",
        "        # Condition contains a \"not in\" expression\n",
        "        column, values = condition.split('not in')\n",
        "        values = [v.strip() for v in values.strip('()').split(',')]\n",
        "        mask = ~df[column].isin(values)\n",
        "    \n",
        "    elif 'in' in condition.lower():\n",
        "        # Condition contains an \"in\" expression\n",
        "        column, values = condition.split('in')\n",
        "        values = [v.strip() for v in values.strip('()').split(',')]\n",
        "        mask = df[column].isin(values)\n",
        "    \n",
        "    elif '=' in condition:\n",
        "        # Condition contains a single expression\n",
        "        column, value = condition.split('=')\n",
        "        mask = df[column] == int(value)\n",
        "    \n",
        "    else:\n",
        "        raise ValueError(f'Invalid condition: {condition}')\n",
        "    \n",
        "    # Do something with the mask\n",
        "    print(mask)\n"
      ],
      "metadata": {
        "id": "lUR2CYaXSIZ9"
      },
      "execution_count": null,
      "outputs": []
    },
    {
      "cell_type": "code",
      "source": [],
      "metadata": {
        "id": "AI47NygISIds"
      },
      "execution_count": null,
      "outputs": []
    },
    {
      "cell_type": "code",
      "source": [
        "import pandas as pd\n",
        "\n",
        "# create a sample DataFrame\n",
        "data = {'name': ['Alice', 'Bob', 'Charlie', 'David', 'Emily'],\n",
        "        'age': [25, 30, 35, 40, 45],\n",
        "        'gender': ['F', 'M', 'M', 'M', 'F'],\n",
        "        'city': ['New York', 'Chicago', 'Los Angeles', 'Houston', 'Boston']}\n",
        "df = pd.DataFrame(data)\n",
        "\n",
        "# filter rows where age is greater than or equal to 35 and gender is 'M'\n",
        "filtered_df = df.query('age != 35 and gender == \"M\"')\n",
        "\n",
        "# print the filtered DataFrame\n",
        "print(filtered_df)"
      ],
      "metadata": {
        "id": "Lm916CvqSIil"
      },
      "execution_count": null,
      "outputs": []
    },
    {
      "cell_type": "code",
      "source": [
        "import pandas as pd\n",
        "\n",
        "# create a sample DataFrame\n",
        "data = {'CWS': ['11', '21', '31', '41', '51', '61', '71', '72', '81', '91'],\n",
        "        'gender':['M', 'F', 'M', 'F', 'M', 'F', 'M', 'F', 'M', 'F'],\n",
        "        'age': [12, 13, 34, 54, 67, 66, 121, 23, 45, 11],\n",
        "        'age_group': [\"G1\", \"G2\", \"G3\", \"G4\", \"G5\", \"G6\", \"G7\", \"G8\", \"G9\", \"G10\"]\n",
        "        }\n",
        "df = pd.DataFrame(data)\n",
        "\n",
        "# apply query to filter rows where CWS is in the specified list\n",
        "# filtered_df = df.query('CWS in [\"11\", \"12\", \"21\", \"31\", \"41\", \"51\", \"61\", \"71\", \"72\"] and gender == \"M\"')\n",
        "\n",
        "for i in range(df.shape[0]):\n",
        "    df.loc[df.query('CWS in [\"11\", \"12\", \"21\", \"31\", \"41\", \"51\", \"61\", \"71\", \"72\"] and gender == \"M\"').index, (df['age'].tolist()[i])] = df['age_group'].tolist()[i]\n",
        "\n",
        "\n",
        "# print the filtered DataFrame\n",
        "print(filtered_df)"
      ],
      "metadata": {
        "id": "qX7Xj4N7SIl_"
      },
      "execution_count": null,
      "outputs": []
    },
    {
      "cell_type": "code",
      "source": [
        "df['age_group'].tolist()"
      ],
      "metadata": {
        "id": "3OxkDgjpnypn"
      },
      "execution_count": null,
      "outputs": []
    },
    {
      "cell_type": "code",
      "source": [
        "import re\n",
        "\n",
        "string = '''(HEIGHT>=5.5 && HEIGHT<6.0) or wt!=0\n",
        "WEIGHT>50 && WEIGHT<=70\n",
        "MARKS>=80 && MARKS<90\n",
        "AGE>=20 && AGE<30\n",
        "INCOME>=50000'''\n",
        "\n",
        "# Define a function to replace variable names with df[\"<variable_name>\"]\n",
        "def replace_var(match):\n",
        "    return f'df[\"{match.group(0)}\"]'\n",
        "\n",
        "# Use regex to replace variable names with df[\"<variable_name>\"]\n",
        "pattern = re.compile(r'\\b\\w+\\b(?=\\s*[<>=!])')\n",
        "new_string = pattern.sub(replace_var, string)\n",
        "\n",
        "print(new_string)"
      ],
      "metadata": {
        "id": "auS8gSeHzFxK"
      },
      "execution_count": null,
      "outputs": []
    },
    {
      "cell_type": "code",
      "source": [],
      "metadata": {
        "id": "DtREzXBlz3Gz"
      },
      "execution_count": 10,
      "outputs": []
    },
    {
      "cell_type": "code",
      "source": [
        "import pandas as pd\n",
        "import numpy as np\n",
        "\n",
        "# Read the data from the CSV file\n",
        "df = pd.read_csv('Work_File1.csv')\n",
        "\n",
        "# Get the current column names\n",
        "old_col_names = df.columns.tolist()\n",
        "\n",
        "# Create a dictionary with the new column names\n",
        "new_col_names = {col: col.strip() for col in old_col_names}\n",
        "\n",
        "# Rename the columns using the dictionary\n",
        "df.rename(columns=new_col_names, inplace=True)\n",
        "\n",
        "# Calculate the SS_MULT and CMULT fields\n",
        "df['SS_MULT'] = df['MULT'] / 100\n",
        "df['CMULT'] = df.apply(lambda row: row['MULT'] / 200 if row['NSC'] > row['NSS'] else row['MULT'] / 100, axis=1)\n",
        "\n",
        "# Group the data by SEC and ST_GR and calculate the aggregates\n",
        "grouped_df = df.groupby(['SEC', 'ST_GR']).agg({'POP': lambda x: (x * df['CMULT']).sum(),\n",
        "                                                'LF': lambda x: (x * df['CMULT']).sum(),\n",
        "                                                'WRK': lambda x: (x * df['CMULT']).sum(),\n",
        "                                                'MULT': 'count'})\n",
        "\n",
        "# Rename the columns and reset the index\n",
        "grouped_df = grouped_df.rename(columns={'POP': 'pophat', 'LF': 'lfhat', 'WRK': 'wrkhat', 'MULT': 'no_sam'}).reset_index()\n",
        "\n",
        "# Save the results to a new CSV file\n",
        "grouped_df.to_csv('W1.csv', index=False)\n"
      ],
      "metadata": {
        "id": "UoK26CZ6z3xw"
      },
      "execution_count": 47,
      "outputs": []
    },
    {
      "cell_type": "code",
      "source": [
        "df.head(3)"
      ],
      "metadata": {
        "colab": {
          "base_uri": "https://localhost:8080/",
          "height": 143
        },
        "id": "U5F8BdvX2Ffp",
        "outputId": "3d196ff8-6a34-4930-b31c-ad03742601d2"
      },
      "execution_count": 48,
      "outputs": [
        {
          "output_type": "execute_result",
          "data": {
            "text/plain": [
              "   SEC  ST ST_GR  STRM_ID  SS  NSS  NSC     MULT   AGE  CWS  POP  LF  WRK  \\\n",
              "0    1  28    G3  1280101   1    1    2  2510296  40.0   51    1   1    1   \n",
              "1    1  28    G3  1280101   1    1    2  2510296  18.0   91    1   0    0   \n",
              "2    1  28    G3  1280101   1    1    2  2510296  19.0   91    1   0    0   \n",
              "\n",
              "    SS_MULT     CMULT  \n",
              "0  25102.96  12551.48  \n",
              "1  25102.96  12551.48  \n",
              "2  25102.96  12551.48  "
            ],
            "text/html": [
              "\n",
              "  <div id=\"df-a36a9289-30b7-4087-a3ac-258946321ba0\">\n",
              "    <div class=\"colab-df-container\">\n",
              "      <div>\n",
              "<style scoped>\n",
              "    .dataframe tbody tr th:only-of-type {\n",
              "        vertical-align: middle;\n",
              "    }\n",
              "\n",
              "    .dataframe tbody tr th {\n",
              "        vertical-align: top;\n",
              "    }\n",
              "\n",
              "    .dataframe thead th {\n",
              "        text-align: right;\n",
              "    }\n",
              "</style>\n",
              "<table border=\"1\" class=\"dataframe\">\n",
              "  <thead>\n",
              "    <tr style=\"text-align: right;\">\n",
              "      <th></th>\n",
              "      <th>SEC</th>\n",
              "      <th>ST</th>\n",
              "      <th>ST_GR</th>\n",
              "      <th>STRM_ID</th>\n",
              "      <th>SS</th>\n",
              "      <th>NSS</th>\n",
              "      <th>NSC</th>\n",
              "      <th>MULT</th>\n",
              "      <th>AGE</th>\n",
              "      <th>CWS</th>\n",
              "      <th>POP</th>\n",
              "      <th>LF</th>\n",
              "      <th>WRK</th>\n",
              "      <th>SS_MULT</th>\n",
              "      <th>CMULT</th>\n",
              "    </tr>\n",
              "  </thead>\n",
              "  <tbody>\n",
              "    <tr>\n",
              "      <th>0</th>\n",
              "      <td>1</td>\n",
              "      <td>28</td>\n",
              "      <td>G3</td>\n",
              "      <td>1280101</td>\n",
              "      <td>1</td>\n",
              "      <td>1</td>\n",
              "      <td>2</td>\n",
              "      <td>2510296</td>\n",
              "      <td>40.0</td>\n",
              "      <td>51</td>\n",
              "      <td>1</td>\n",
              "      <td>1</td>\n",
              "      <td>1</td>\n",
              "      <td>25102.96</td>\n",
              "      <td>12551.48</td>\n",
              "    </tr>\n",
              "    <tr>\n",
              "      <th>1</th>\n",
              "      <td>1</td>\n",
              "      <td>28</td>\n",
              "      <td>G3</td>\n",
              "      <td>1280101</td>\n",
              "      <td>1</td>\n",
              "      <td>1</td>\n",
              "      <td>2</td>\n",
              "      <td>2510296</td>\n",
              "      <td>18.0</td>\n",
              "      <td>91</td>\n",
              "      <td>1</td>\n",
              "      <td>0</td>\n",
              "      <td>0</td>\n",
              "      <td>25102.96</td>\n",
              "      <td>12551.48</td>\n",
              "    </tr>\n",
              "    <tr>\n",
              "      <th>2</th>\n",
              "      <td>1</td>\n",
              "      <td>28</td>\n",
              "      <td>G3</td>\n",
              "      <td>1280101</td>\n",
              "      <td>1</td>\n",
              "      <td>1</td>\n",
              "      <td>2</td>\n",
              "      <td>2510296</td>\n",
              "      <td>19.0</td>\n",
              "      <td>91</td>\n",
              "      <td>1</td>\n",
              "      <td>0</td>\n",
              "      <td>0</td>\n",
              "      <td>25102.96</td>\n",
              "      <td>12551.48</td>\n",
              "    </tr>\n",
              "  </tbody>\n",
              "</table>\n",
              "</div>\n",
              "      <button class=\"colab-df-convert\" onclick=\"convertToInteractive('df-a36a9289-30b7-4087-a3ac-258946321ba0')\"\n",
              "              title=\"Convert this dataframe to an interactive table.\"\n",
              "              style=\"display:none;\">\n",
              "        \n",
              "  <svg xmlns=\"http://www.w3.org/2000/svg\" height=\"24px\"viewBox=\"0 0 24 24\"\n",
              "       width=\"24px\">\n",
              "    <path d=\"M0 0h24v24H0V0z\" fill=\"none\"/>\n",
              "    <path d=\"M18.56 5.44l.94 2.06.94-2.06 2.06-.94-2.06-.94-.94-2.06-.94 2.06-2.06.94zm-11 1L8.5 8.5l.94-2.06 2.06-.94-2.06-.94L8.5 2.5l-.94 2.06-2.06.94zm10 10l.94 2.06.94-2.06 2.06-.94-2.06-.94-.94-2.06-.94 2.06-2.06.94z\"/><path d=\"M17.41 7.96l-1.37-1.37c-.4-.4-.92-.59-1.43-.59-.52 0-1.04.2-1.43.59L10.3 9.45l-7.72 7.72c-.78.78-.78 2.05 0 2.83L4 21.41c.39.39.9.59 1.41.59.51 0 1.02-.2 1.41-.59l7.78-7.78 2.81-2.81c.8-.78.8-2.07 0-2.86zM5.41 20L4 18.59l7.72-7.72 1.47 1.35L5.41 20z\"/>\n",
              "  </svg>\n",
              "      </button>\n",
              "      \n",
              "  <style>\n",
              "    .colab-df-container {\n",
              "      display:flex;\n",
              "      flex-wrap:wrap;\n",
              "      gap: 12px;\n",
              "    }\n",
              "\n",
              "    .colab-df-convert {\n",
              "      background-color: #E8F0FE;\n",
              "      border: none;\n",
              "      border-radius: 50%;\n",
              "      cursor: pointer;\n",
              "      display: none;\n",
              "      fill: #1967D2;\n",
              "      height: 32px;\n",
              "      padding: 0 0 0 0;\n",
              "      width: 32px;\n",
              "    }\n",
              "\n",
              "    .colab-df-convert:hover {\n",
              "      background-color: #E2EBFA;\n",
              "      box-shadow: 0px 1px 2px rgba(60, 64, 67, 0.3), 0px 1px 3px 1px rgba(60, 64, 67, 0.15);\n",
              "      fill: #174EA6;\n",
              "    }\n",
              "\n",
              "    [theme=dark] .colab-df-convert {\n",
              "      background-color: #3B4455;\n",
              "      fill: #D2E3FC;\n",
              "    }\n",
              "\n",
              "    [theme=dark] .colab-df-convert:hover {\n",
              "      background-color: #434B5C;\n",
              "      box-shadow: 0px 1px 3px 1px rgba(0, 0, 0, 0.15);\n",
              "      filter: drop-shadow(0px 1px 2px rgba(0, 0, 0, 0.3));\n",
              "      fill: #FFFFFF;\n",
              "    }\n",
              "  </style>\n",
              "\n",
              "      <script>\n",
              "        const buttonEl =\n",
              "          document.querySelector('#df-a36a9289-30b7-4087-a3ac-258946321ba0 button.colab-df-convert');\n",
              "        buttonEl.style.display =\n",
              "          google.colab.kernel.accessAllowed ? 'block' : 'none';\n",
              "\n",
              "        async function convertToInteractive(key) {\n",
              "          const element = document.querySelector('#df-a36a9289-30b7-4087-a3ac-258946321ba0');\n",
              "          const dataTable =\n",
              "            await google.colab.kernel.invokeFunction('convertToInteractive',\n",
              "                                                     [key], {});\n",
              "          if (!dataTable) return;\n",
              "\n",
              "          const docLinkHtml = 'Like what you see? Visit the ' +\n",
              "            '<a target=\"_blank\" href=https://colab.research.google.com/notebooks/data_table.ipynb>data table notebook</a>'\n",
              "            + ' to learn more about interactive tables.';\n",
              "          element.innerHTML = '';\n",
              "          dataTable['output_type'] = 'display_data';\n",
              "          await google.colab.output.renderOutput(dataTable, element);\n",
              "          const docLink = document.createElement('div');\n",
              "          docLink.innerHTML = docLinkHtml;\n",
              "          element.appendChild(docLink);\n",
              "        }\n",
              "      </script>\n",
              "    </div>\n",
              "  </div>\n",
              "  "
            ]
          },
          "metadata": {},
          "execution_count": 48
        }
      ]
    },
    {
      "cell_type": "code",
      "source": [
        "df.columns"
      ],
      "metadata": {
        "colab": {
          "base_uri": "https://localhost:8080/"
        },
        "id": "r5S7e30o3I6t",
        "outputId": "f976d3d3-95a9-4e48-cc30-f8cbec57ed70"
      },
      "execution_count": 49,
      "outputs": [
        {
          "output_type": "execute_result",
          "data": {
            "text/plain": [
              "Index(['SEC', 'ST', 'ST_GR', 'STRM_ID', 'SS', 'NSS', 'NSC', 'MULT', 'AGE',\n",
              "       'CWS', 'POP', 'LF', 'WRK', 'SS_MULT', 'CMULT'],\n",
              "      dtype='object')"
            ]
          },
          "metadata": {},
          "execution_count": 49
        }
      ]
    },
    {
      "cell_type": "code",
      "source": [
        "# Filter dataframe to include only rows where SS is 1 or 2\n",
        "df = df.query(\"SS in [1, 2]\")\n",
        "print(f\"Number of rows after filtering: {len(df)}\")\n",
        "\n",
        "# Generate stratum and stratum x sub-sample level estimates\n",
        "w2 = df.groupby(['SEC', 'ST_GR', 'STRM_ID']).agg(\n",
        "    popstr=('POP', 'sum'),\n",
        "    s1pop=('POP', lambda x: np.sum(np.where(df['SS'] == 1, x * df['SS_MULT'], 0))),\n",
        "    s2pop=('POP', lambda x: np.sum(np.where(df['SS'] == 2, x * df['SS_MULT'], 0))),\n",
        "    lfstr=('LF', 'sum'),\n",
        "    s1lf=('LF', lambda x: np.sum(np.where(df['SS'] == 1, x * df['SS_MULT'], 0))),\n",
        "    s2lf=('LF', lambda x: np.sum(np.where(df['SS'] == 2, x * df['SS_MULT'], 0))),\n",
        "    wrkstr=('WRK', 'sum'),\n",
        "    s1wrk=('WRK', lambda x: np.sum(np.where(df['SS'] == 1, x * df['SS_MULT'], 0))),\n",
        "    s2wrk=('WRK', lambda x: np.sum(np.where(df['SS'] == 2, x * df['SS_MULT'], 0)))\n",
        ").reset_index()\n"
      ],
      "metadata": {
        "colab": {
          "base_uri": "https://localhost:8080/"
        },
        "id": "5p5hVUgRz3z9",
        "outputId": "0d6a7858-99e4-427b-8d26-cd17defffb88"
      },
      "execution_count": 64,
      "outputs": [
        {
          "output_type": "stream",
          "name": "stdout",
          "text": [
            "Number of rows after filtering: 83801\n"
          ]
        }
      ]
    },
    {
      "cell_type": "code",
      "source": [
        "df.head(3)"
      ],
      "metadata": {
        "colab": {
          "base_uri": "https://localhost:8080/",
          "height": 143
        },
        "id": "FiI1CSPKz33X",
        "outputId": "0dc0eafd-1fdc-4459-d34c-7ca124aeff90"
      },
      "execution_count": 65,
      "outputs": [
        {
          "output_type": "execute_result",
          "data": {
            "text/plain": [
              "   SEC  ST ST_GR  STRM_ID  SS  NSS  NSC     MULT   AGE  CWS  POP  LF  WRK  \\\n",
              "0    1  28    G3  1280101   1    1    2  2510296  40.0   51    1   1    1   \n",
              "1    1  28    G3  1280101   1    1    2  2510296  18.0   91    1   0    0   \n",
              "2    1  28    G3  1280101   1    1    2  2510296  19.0   91    1   0    0   \n",
              "\n",
              "    SS_MULT     CMULT  \n",
              "0  25102.96  12551.48  \n",
              "1  25102.96  12551.48  \n",
              "2  25102.96  12551.48  "
            ],
            "text/html": [
              "\n",
              "  <div id=\"df-d5625f98-d4b8-40a3-8532-13af11308914\">\n",
              "    <div class=\"colab-df-container\">\n",
              "      <div>\n",
              "<style scoped>\n",
              "    .dataframe tbody tr th:only-of-type {\n",
              "        vertical-align: middle;\n",
              "    }\n",
              "\n",
              "    .dataframe tbody tr th {\n",
              "        vertical-align: top;\n",
              "    }\n",
              "\n",
              "    .dataframe thead th {\n",
              "        text-align: right;\n",
              "    }\n",
              "</style>\n",
              "<table border=\"1\" class=\"dataframe\">\n",
              "  <thead>\n",
              "    <tr style=\"text-align: right;\">\n",
              "      <th></th>\n",
              "      <th>SEC</th>\n",
              "      <th>ST</th>\n",
              "      <th>ST_GR</th>\n",
              "      <th>STRM_ID</th>\n",
              "      <th>SS</th>\n",
              "      <th>NSS</th>\n",
              "      <th>NSC</th>\n",
              "      <th>MULT</th>\n",
              "      <th>AGE</th>\n",
              "      <th>CWS</th>\n",
              "      <th>POP</th>\n",
              "      <th>LF</th>\n",
              "      <th>WRK</th>\n",
              "      <th>SS_MULT</th>\n",
              "      <th>CMULT</th>\n",
              "    </tr>\n",
              "  </thead>\n",
              "  <tbody>\n",
              "    <tr>\n",
              "      <th>0</th>\n",
              "      <td>1</td>\n",
              "      <td>28</td>\n",
              "      <td>G3</td>\n",
              "      <td>1280101</td>\n",
              "      <td>1</td>\n",
              "      <td>1</td>\n",
              "      <td>2</td>\n",
              "      <td>2510296</td>\n",
              "      <td>40.0</td>\n",
              "      <td>51</td>\n",
              "      <td>1</td>\n",
              "      <td>1</td>\n",
              "      <td>1</td>\n",
              "      <td>25102.96</td>\n",
              "      <td>12551.48</td>\n",
              "    </tr>\n",
              "    <tr>\n",
              "      <th>1</th>\n",
              "      <td>1</td>\n",
              "      <td>28</td>\n",
              "      <td>G3</td>\n",
              "      <td>1280101</td>\n",
              "      <td>1</td>\n",
              "      <td>1</td>\n",
              "      <td>2</td>\n",
              "      <td>2510296</td>\n",
              "      <td>18.0</td>\n",
              "      <td>91</td>\n",
              "      <td>1</td>\n",
              "      <td>0</td>\n",
              "      <td>0</td>\n",
              "      <td>25102.96</td>\n",
              "      <td>12551.48</td>\n",
              "    </tr>\n",
              "    <tr>\n",
              "      <th>2</th>\n",
              "      <td>1</td>\n",
              "      <td>28</td>\n",
              "      <td>G3</td>\n",
              "      <td>1280101</td>\n",
              "      <td>1</td>\n",
              "      <td>1</td>\n",
              "      <td>2</td>\n",
              "      <td>2510296</td>\n",
              "      <td>19.0</td>\n",
              "      <td>91</td>\n",
              "      <td>1</td>\n",
              "      <td>0</td>\n",
              "      <td>0</td>\n",
              "      <td>25102.96</td>\n",
              "      <td>12551.48</td>\n",
              "    </tr>\n",
              "  </tbody>\n",
              "</table>\n",
              "</div>\n",
              "      <button class=\"colab-df-convert\" onclick=\"convertToInteractive('df-d5625f98-d4b8-40a3-8532-13af11308914')\"\n",
              "              title=\"Convert this dataframe to an interactive table.\"\n",
              "              style=\"display:none;\">\n",
              "        \n",
              "  <svg xmlns=\"http://www.w3.org/2000/svg\" height=\"24px\"viewBox=\"0 0 24 24\"\n",
              "       width=\"24px\">\n",
              "    <path d=\"M0 0h24v24H0V0z\" fill=\"none\"/>\n",
              "    <path d=\"M18.56 5.44l.94 2.06.94-2.06 2.06-.94-2.06-.94-.94-2.06-.94 2.06-2.06.94zm-11 1L8.5 8.5l.94-2.06 2.06-.94-2.06-.94L8.5 2.5l-.94 2.06-2.06.94zm10 10l.94 2.06.94-2.06 2.06-.94-2.06-.94-.94-2.06-.94 2.06-2.06.94z\"/><path d=\"M17.41 7.96l-1.37-1.37c-.4-.4-.92-.59-1.43-.59-.52 0-1.04.2-1.43.59L10.3 9.45l-7.72 7.72c-.78.78-.78 2.05 0 2.83L4 21.41c.39.39.9.59 1.41.59.51 0 1.02-.2 1.41-.59l7.78-7.78 2.81-2.81c.8-.78.8-2.07 0-2.86zM5.41 20L4 18.59l7.72-7.72 1.47 1.35L5.41 20z\"/>\n",
              "  </svg>\n",
              "      </button>\n",
              "      \n",
              "  <style>\n",
              "    .colab-df-container {\n",
              "      display:flex;\n",
              "      flex-wrap:wrap;\n",
              "      gap: 12px;\n",
              "    }\n",
              "\n",
              "    .colab-df-convert {\n",
              "      background-color: #E8F0FE;\n",
              "      border: none;\n",
              "      border-radius: 50%;\n",
              "      cursor: pointer;\n",
              "      display: none;\n",
              "      fill: #1967D2;\n",
              "      height: 32px;\n",
              "      padding: 0 0 0 0;\n",
              "      width: 32px;\n",
              "    }\n",
              "\n",
              "    .colab-df-convert:hover {\n",
              "      background-color: #E2EBFA;\n",
              "      box-shadow: 0px 1px 2px rgba(60, 64, 67, 0.3), 0px 1px 3px 1px rgba(60, 64, 67, 0.15);\n",
              "      fill: #174EA6;\n",
              "    }\n",
              "\n",
              "    [theme=dark] .colab-df-convert {\n",
              "      background-color: #3B4455;\n",
              "      fill: #D2E3FC;\n",
              "    }\n",
              "\n",
              "    [theme=dark] .colab-df-convert:hover {\n",
              "      background-color: #434B5C;\n",
              "      box-shadow: 0px 1px 3px 1px rgba(0, 0, 0, 0.15);\n",
              "      filter: drop-shadow(0px 1px 2px rgba(0, 0, 0, 0.3));\n",
              "      fill: #FFFFFF;\n",
              "    }\n",
              "  </style>\n",
              "\n",
              "      <script>\n",
              "        const buttonEl =\n",
              "          document.querySelector('#df-d5625f98-d4b8-40a3-8532-13af11308914 button.colab-df-convert');\n",
              "        buttonEl.style.display =\n",
              "          google.colab.kernel.accessAllowed ? 'block' : 'none';\n",
              "\n",
              "        async function convertToInteractive(key) {\n",
              "          const element = document.querySelector('#df-d5625f98-d4b8-40a3-8532-13af11308914');\n",
              "          const dataTable =\n",
              "            await google.colab.kernel.invokeFunction('convertToInteractive',\n",
              "                                                     [key], {});\n",
              "          if (!dataTable) return;\n",
              "\n",
              "          const docLinkHtml = 'Like what you see? Visit the ' +\n",
              "            '<a target=\"_blank\" href=https://colab.research.google.com/notebooks/data_table.ipynb>data table notebook</a>'\n",
              "            + ' to learn more about interactive tables.';\n",
              "          element.innerHTML = '';\n",
              "          dataTable['output_type'] = 'display_data';\n",
              "          await google.colab.output.renderOutput(dataTable, element);\n",
              "          const docLink = document.createElement('div');\n",
              "          docLink.innerHTML = docLinkHtml;\n",
              "          element.appendChild(docLink);\n",
              "        }\n",
              "      </script>\n",
              "    </div>\n",
              "  </div>\n",
              "  "
            ]
          },
          "metadata": {},
          "execution_count": 65
        }
      ]
    },
    {
      "cell_type": "code",
      "source": [
        "# Join w2 and w1 on SEC and ST_GR columns\n",
        "w3 = w2.merge(grouped_df, on=['SEC', 'ST_GR'], suffixes=('_str', '_grp'))\n",
        "\n",
        "# Add new columns to w3\n",
        "w3['r1hat'] = w3['lfhat'] / w3['pophat']\n",
        "w3['r2hat'] = w3['wrkhat'] / w3['pophat']"
      ],
      "metadata": {
        "id": "pcICTpmD24WA"
      },
      "execution_count": 66,
      "outputs": []
    },
    {
      "cell_type": "code",
      "source": [
        "# Equate s1pop and s2pop\n",
        "w3.loc[w3['popstr'] == w3['s1pop'], 's1pop'] = w3.loc[w3['popstr'] == w3['s1pop'], 's2pop']\n",
        "w3.loc[w3['popstr'] == w3['s2pop'], 's2pop'] = w3.loc[w3['popstr'] == w3['s2pop'], 's1pop']\n",
        "\n",
        "# Equate s1lf and s2lf\n",
        "w3.loc[w3['lfstr'] == w3['s1lf'], 's1lf'] = w3.loc[w3['lfstr'] == w3['s1lf'], 's2lf']\n",
        "w3.loc[w3['lfstr'] == w3['s2lf'], 's2lf'] = w3.loc[w3['lfstr'] == w3['s2lf'], 's1lf']\n",
        "\n",
        "# Equate s1wrk and s2wrk\n",
        "w3.loc[w3['wrkstr'] == w3['s1wrk'], 's1wrk'] = w3.loc[w3['wrkstr'] == w3['s1wrk'], 's2wrk']\n",
        "w3.loc[w3['wrkstr'] == w3['s2wrk'], 's2wrk'] = w3.loc[w3['wrkstr'] == w3['s2wrk'], 's1wrk']\n"
      ],
      "metadata": {
        "id": "Ulkj_RhE5kcK"
      },
      "execution_count": 67,
      "outputs": []
    },
    {
      "cell_type": "code",
      "source": [
        "w3['s1wrk'].unique()"
      ],
      "metadata": {
        "colab": {
          "base_uri": "https://localhost:8080/"
        },
        "id": "Oj-yQP0rDVje",
        "outputId": "3d241e67-38f6-4221-f44d-71d96c98853a"
      },
      "execution_count": 74,
      "outputs": [
        {
          "output_type": "execute_result",
          "data": {
            "text/plain": [
              "array([nan])"
            ]
          },
          "metadata": {},
          "execution_count": 74
        }
      ]
    },
    {
      "cell_type": "code",
      "source": [
        "w3['r2hat'].unique()"
      ],
      "metadata": {
        "colab": {
          "base_uri": "https://localhost:8080/"
        },
        "id": "2PoKSnAvDc3O",
        "outputId": "a1f65a4e-f57e-4523-8aef-3aba48d9335f"
      },
      "execution_count": 76,
      "outputs": [
        {
          "output_type": "execute_result",
          "data": {
            "text/plain": [
              "array([0.4285478 , 0.49414335, 0.50206607, 0.4281294 , 0.45977384,\n",
              "       0.46284471])"
            ]
          },
          "metadata": {},
          "execution_count": 76
        }
      ]
    },
    {
      "cell_type": "code",
      "source": [
        "w4 = w3.groupby(['SEC', 'ST_GR', 'no_sam', 'pophat', 'lfhat', 'wrkhat', 'r1hat', 'r2hat']).agg(\n",
        "    var_pop=('s1pop', lambda x: ((x - x.mean()) ** 2).sum()),\n",
        "    mse_R1=('s1lf', lambda x: ((x - x.mean()) ** 2).sum() + (x.name[-2] ** 2) * (((x.name[3] - x.name[3].mean()) ** 2).sum()) - \n",
        "           2 * x.name[-2] * ((x - x.mean()) * (x.name[3] - x.name[3].mean())).sum()),\n",
        "    mse_R2=('s1wrk', lambda x: ((x - x.mean()) ** 2).sum() + (x.name[-1] ** 2) * (((x.name[3] - x.name[3].mean()) ** 2).sum()) - \n",
        "           2 * x.name[-1] * ((x - x.mean()) * (x.name[3] - x.name[3].mean())).sum())\n",
        ").reset_index()"
      ],
      "metadata": {
        "colab": {
          "base_uri": "https://localhost:8080/"
        },
        "id": "jcXLrOHW8cvc",
        "outputId": "a4343aee-bf27-4ab5-eb6e-305a0343db16"
      },
      "execution_count": 82,
      "outputs": [
        {
          "output_type": "stream",
          "name": "stderr",
          "text": [
            "<ipython-input-82-e5b5f6c52ac6>:1: FutureWarning: Dropping invalid columns in SeriesGroupBy.agg is deprecated. In a future version, a TypeError will be raised. Before calling .agg, select only columns which should be valid for the function.\n",
            "  w4 = w3.groupby(['SEC', 'ST_GR', 'no_sam', 'pophat', 'lfhat', 'wrkhat', 'r1hat', 'r2hat']).agg(\n"
          ]
        }
      ]
    },
    {
      "cell_type": "code",
      "source": [
        "w4"
      ],
      "metadata": {
        "colab": {
          "base_uri": "https://localhost:8080/",
          "height": 237
        },
        "id": "03CHeGGC9Zo-",
        "outputId": "f67b3fe4-cf6a-41cc-9044-9182775d23c2"
      },
      "execution_count": 83,
      "outputs": [
        {
          "output_type": "execute_result",
          "data": {
            "text/plain": [
              "   SEC ST_GR  no_sam        pophat         lfhat        wrkhat     r1hat  \\\n",
              "0    1    G1    9158  1.441490e+08  5.757861e+07  6.177476e+07  0.399438   \n",
              "1    1    G2    7202  2.483506e+07  1.126034e+07  1.227208e+07  0.453405   \n",
              "2    1    G3   30359  3.901753e+08  1.825075e+08  1.958938e+08  0.467758   \n",
              "3    2    G1    5207  3.279368e+07  1.292701e+07  1.403994e+07  0.394192   \n",
              "4    2    G2    4584  4.521249e+06  1.873110e+06  2.078752e+06  0.414290   \n",
              "5    2    G3   27291  2.086086e+08  8.846961e+07  9.655337e+07  0.424094   \n",
              "\n",
              "      r2hat  var_pop  mse_R1  mse_R2  \n",
              "0  0.428548      0.0     0.0     0.0  \n",
              "1  0.494143      0.0     0.0     0.0  \n",
              "2  0.502066      0.0     0.0     0.0  \n",
              "3  0.428129      0.0     0.0     0.0  \n",
              "4  0.459774      0.0     0.0     0.0  \n",
              "5  0.462845      0.0     0.0     0.0  "
            ],
            "text/html": [
              "\n",
              "  <div id=\"df-d5d5b87d-d195-438b-8ffa-984d422deb0d\">\n",
              "    <div class=\"colab-df-container\">\n",
              "      <div>\n",
              "<style scoped>\n",
              "    .dataframe tbody tr th:only-of-type {\n",
              "        vertical-align: middle;\n",
              "    }\n",
              "\n",
              "    .dataframe tbody tr th {\n",
              "        vertical-align: top;\n",
              "    }\n",
              "\n",
              "    .dataframe thead th {\n",
              "        text-align: right;\n",
              "    }\n",
              "</style>\n",
              "<table border=\"1\" class=\"dataframe\">\n",
              "  <thead>\n",
              "    <tr style=\"text-align: right;\">\n",
              "      <th></th>\n",
              "      <th>SEC</th>\n",
              "      <th>ST_GR</th>\n",
              "      <th>no_sam</th>\n",
              "      <th>pophat</th>\n",
              "      <th>lfhat</th>\n",
              "      <th>wrkhat</th>\n",
              "      <th>r1hat</th>\n",
              "      <th>r2hat</th>\n",
              "      <th>var_pop</th>\n",
              "      <th>mse_R1</th>\n",
              "      <th>mse_R2</th>\n",
              "    </tr>\n",
              "  </thead>\n",
              "  <tbody>\n",
              "    <tr>\n",
              "      <th>0</th>\n",
              "      <td>1</td>\n",
              "      <td>G1</td>\n",
              "      <td>9158</td>\n",
              "      <td>1.441490e+08</td>\n",
              "      <td>5.757861e+07</td>\n",
              "      <td>6.177476e+07</td>\n",
              "      <td>0.399438</td>\n",
              "      <td>0.428548</td>\n",
              "      <td>0.0</td>\n",
              "      <td>0.0</td>\n",
              "      <td>0.0</td>\n",
              "    </tr>\n",
              "    <tr>\n",
              "      <th>1</th>\n",
              "      <td>1</td>\n",
              "      <td>G2</td>\n",
              "      <td>7202</td>\n",
              "      <td>2.483506e+07</td>\n",
              "      <td>1.126034e+07</td>\n",
              "      <td>1.227208e+07</td>\n",
              "      <td>0.453405</td>\n",
              "      <td>0.494143</td>\n",
              "      <td>0.0</td>\n",
              "      <td>0.0</td>\n",
              "      <td>0.0</td>\n",
              "    </tr>\n",
              "    <tr>\n",
              "      <th>2</th>\n",
              "      <td>1</td>\n",
              "      <td>G3</td>\n",
              "      <td>30359</td>\n",
              "      <td>3.901753e+08</td>\n",
              "      <td>1.825075e+08</td>\n",
              "      <td>1.958938e+08</td>\n",
              "      <td>0.467758</td>\n",
              "      <td>0.502066</td>\n",
              "      <td>0.0</td>\n",
              "      <td>0.0</td>\n",
              "      <td>0.0</td>\n",
              "    </tr>\n",
              "    <tr>\n",
              "      <th>3</th>\n",
              "      <td>2</td>\n",
              "      <td>G1</td>\n",
              "      <td>5207</td>\n",
              "      <td>3.279368e+07</td>\n",
              "      <td>1.292701e+07</td>\n",
              "      <td>1.403994e+07</td>\n",
              "      <td>0.394192</td>\n",
              "      <td>0.428129</td>\n",
              "      <td>0.0</td>\n",
              "      <td>0.0</td>\n",
              "      <td>0.0</td>\n",
              "    </tr>\n",
              "    <tr>\n",
              "      <th>4</th>\n",
              "      <td>2</td>\n",
              "      <td>G2</td>\n",
              "      <td>4584</td>\n",
              "      <td>4.521249e+06</td>\n",
              "      <td>1.873110e+06</td>\n",
              "      <td>2.078752e+06</td>\n",
              "      <td>0.414290</td>\n",
              "      <td>0.459774</td>\n",
              "      <td>0.0</td>\n",
              "      <td>0.0</td>\n",
              "      <td>0.0</td>\n",
              "    </tr>\n",
              "    <tr>\n",
              "      <th>5</th>\n",
              "      <td>2</td>\n",
              "      <td>G3</td>\n",
              "      <td>27291</td>\n",
              "      <td>2.086086e+08</td>\n",
              "      <td>8.846961e+07</td>\n",
              "      <td>9.655337e+07</td>\n",
              "      <td>0.424094</td>\n",
              "      <td>0.462845</td>\n",
              "      <td>0.0</td>\n",
              "      <td>0.0</td>\n",
              "      <td>0.0</td>\n",
              "    </tr>\n",
              "  </tbody>\n",
              "</table>\n",
              "</div>\n",
              "      <button class=\"colab-df-convert\" onclick=\"convertToInteractive('df-d5d5b87d-d195-438b-8ffa-984d422deb0d')\"\n",
              "              title=\"Convert this dataframe to an interactive table.\"\n",
              "              style=\"display:none;\">\n",
              "        \n",
              "  <svg xmlns=\"http://www.w3.org/2000/svg\" height=\"24px\"viewBox=\"0 0 24 24\"\n",
              "       width=\"24px\">\n",
              "    <path d=\"M0 0h24v24H0V0z\" fill=\"none\"/>\n",
              "    <path d=\"M18.56 5.44l.94 2.06.94-2.06 2.06-.94-2.06-.94-.94-2.06-.94 2.06-2.06.94zm-11 1L8.5 8.5l.94-2.06 2.06-.94-2.06-.94L8.5 2.5l-.94 2.06-2.06.94zm10 10l.94 2.06.94-2.06 2.06-.94-2.06-.94-.94-2.06-.94 2.06-2.06.94z\"/><path d=\"M17.41 7.96l-1.37-1.37c-.4-.4-.92-.59-1.43-.59-.52 0-1.04.2-1.43.59L10.3 9.45l-7.72 7.72c-.78.78-.78 2.05 0 2.83L4 21.41c.39.39.9.59 1.41.59.51 0 1.02-.2 1.41-.59l7.78-7.78 2.81-2.81c.8-.78.8-2.07 0-2.86zM5.41 20L4 18.59l7.72-7.72 1.47 1.35L5.41 20z\"/>\n",
              "  </svg>\n",
              "      </button>\n",
              "      \n",
              "  <style>\n",
              "    .colab-df-container {\n",
              "      display:flex;\n",
              "      flex-wrap:wrap;\n",
              "      gap: 12px;\n",
              "    }\n",
              "\n",
              "    .colab-df-convert {\n",
              "      background-color: #E8F0FE;\n",
              "      border: none;\n",
              "      border-radius: 50%;\n",
              "      cursor: pointer;\n",
              "      display: none;\n",
              "      fill: #1967D2;\n",
              "      height: 32px;\n",
              "      padding: 0 0 0 0;\n",
              "      width: 32px;\n",
              "    }\n",
              "\n",
              "    .colab-df-convert:hover {\n",
              "      background-color: #E2EBFA;\n",
              "      box-shadow: 0px 1px 2px rgba(60, 64, 67, 0.3), 0px 1px 3px 1px rgba(60, 64, 67, 0.15);\n",
              "      fill: #174EA6;\n",
              "    }\n",
              "\n",
              "    [theme=dark] .colab-df-convert {\n",
              "      background-color: #3B4455;\n",
              "      fill: #D2E3FC;\n",
              "    }\n",
              "\n",
              "    [theme=dark] .colab-df-convert:hover {\n",
              "      background-color: #434B5C;\n",
              "      box-shadow: 0px 1px 3px 1px rgba(0, 0, 0, 0.15);\n",
              "      filter: drop-shadow(0px 1px 2px rgba(0, 0, 0, 0.3));\n",
              "      fill: #FFFFFF;\n",
              "    }\n",
              "  </style>\n",
              "\n",
              "      <script>\n",
              "        const buttonEl =\n",
              "          document.querySelector('#df-d5d5b87d-d195-438b-8ffa-984d422deb0d button.colab-df-convert');\n",
              "        buttonEl.style.display =\n",
              "          google.colab.kernel.accessAllowed ? 'block' : 'none';\n",
              "\n",
              "        async function convertToInteractive(key) {\n",
              "          const element = document.querySelector('#df-d5d5b87d-d195-438b-8ffa-984d422deb0d');\n",
              "          const dataTable =\n",
              "            await google.colab.kernel.invokeFunction('convertToInteractive',\n",
              "                                                     [key], {});\n",
              "          if (!dataTable) return;\n",
              "\n",
              "          const docLinkHtml = 'Like what you see? Visit the ' +\n",
              "            '<a target=\"_blank\" href=https://colab.research.google.com/notebooks/data_table.ipynb>data table notebook</a>'\n",
              "            + ' to learn more about interactive tables.';\n",
              "          element.innerHTML = '';\n",
              "          dataTable['output_type'] = 'display_data';\n",
              "          await google.colab.output.renderOutput(dataTable, element);\n",
              "          const docLink = document.createElement('div');\n",
              "          docLink.innerHTML = docLinkHtml;\n",
              "          element.appendChild(docLink);\n",
              "        }\n",
              "      </script>\n",
              "    </div>\n",
              "  </div>\n",
              "  "
            ]
          },
          "metadata": {},
          "execution_count": 83
        }
      ]
    },
    {
      "cell_type": "code",
      "source": [
        "# Calculate RSEs for each variable in T1\n",
        "w5 = w4.assign(\n",
        "    RSE_POP=lambda x: 100 * (x['var_pop'] ** 0.5) / (2 * x['pophat']),\n",
        "    RSE_R1=lambda x: 100 * (x['mse_R1'] ** 0.5) / (2 * x['lfhat']),\n",
        "    RSE_R2=lambda x: 100 * (x['mse_R2'] ** 0.5) / (2 * x['wrkhat'])\n",
        ")\n"
      ],
      "metadata": {
        "id": "8OZh9eAb_Mnf"
      },
      "execution_count": 84,
      "outputs": []
    },
    {
      "cell_type": "code",
      "source": [
        "\n",
        "# assuming the data is loaded into a DataFrame called w5\n",
        "T1 = w5[['SEC', 'ST_GR', 'no_sam', 'pophat', 'lfhat', 'wrkhat', 'r1hat', 'r2hat', 'RSE_POP', 'RSE_R1', 'RSE_R2']].copy()\n",
        "\n",
        "# add empty columns for sec_desc and st_gr_desc\n",
        "T1['sec_desc'] = ''\n",
        "T1['st_gr_desc'] = ''\n",
        "\n",
        "# apply formatting to columns\n",
        "T1['R1'] = 100 * T1['r1hat']\n",
        "T1['R2'] = 100 * T1['r2hat']\n",
        "\n",
        "# reorder columns\n",
        "T1 = T1[['SEC', 'ST_GR', 'sec_desc', 'st_gr_desc', 'no_sam', 'pophat','lfhat', 'wrkhat', 'RSE_POP', 'R1', 'RSE_R1', 'R2', 'RSE_R2']]\n",
        "\n",
        "# print the resulting DataFrame\n",
        "print(T1)\n"
      ],
      "metadata": {
        "colab": {
          "base_uri": "https://localhost:8080/"
        },
        "id": "L1rSvjah_Mqy",
        "outputId": "062a62c9-fbfd-46ab-ded7-9f2a6336f984"
      },
      "execution_count": 93,
      "outputs": [
        {
          "output_type": "stream",
          "name": "stdout",
          "text": [
            "   SEC ST_GR sec_desc st_gr_desc  no_sam        pophat         lfhat  \\\n",
            "0    1    G1                        9158  1.441490e+08  5.757861e+07   \n",
            "1    1    G2                        7202  2.483506e+07  1.126034e+07   \n",
            "2    1    G3                       30359  3.901753e+08  1.825075e+08   \n",
            "3    2    G1                        5207  3.279368e+07  1.292701e+07   \n",
            "4    2    G2                        4584  4.521249e+06  1.873110e+06   \n",
            "5    2    G3                       27291  2.086086e+08  8.846961e+07   \n",
            "\n",
            "         wrkhat  RSE_POP         R1  RSE_R1         R2  RSE_R2  \n",
            "0  6.177476e+07      0.0  39.943801     0.0  42.854780     0.0  \n",
            "1  1.227208e+07      0.0  45.340498     0.0  49.414335     0.0  \n",
            "2  1.958938e+08      0.0  46.775767     0.0  50.206607     0.0  \n",
            "3  1.403994e+07      0.0  39.419213     0.0  42.812940     0.0  \n",
            "4  2.078752e+06      0.0  41.429033     0.0  45.977384     0.0  \n",
            "5  9.655337e+07      0.0  42.409386     0.0  46.284471     0.0  \n"
          ]
        }
      ]
    },
    {
      "cell_type": "code",
      "source": [
        "T1 = w5[['SEC', 'ST_GR', 'no_sam', 'pophat','lfhat', 'wrkhat', 'r1hat', 'r2hat', 'RSE_POP', 'RSE_R1', 'RSE_R2']].copy()\n",
        "T1['sec_desc'] = ' '*12\n",
        "T1['st_gr_desc'] = ' '*12\n",
        "T1['R1'] = 100 * T1['r1hat']\n",
        "T1['R2'] = 100 * T1['r2hat']\n",
        "T1 = T1[['SEC', 'ST_GR', 'no_sam', 'pophat','lfhat', 'wrkhat', 'RSE_POP', 'R1', 'RSE_R1', 'R2', 'RSE_R2']]\n",
        "T1"
      ],
      "metadata": {
        "colab": {
          "base_uri": "https://localhost:8080/",
          "height": 237
        },
        "id": "MK8Cgj2R94_j",
        "outputId": "87d428fd-50aa-49dc-8274-62e10b732e50"
      },
      "execution_count": 96,
      "outputs": [
        {
          "output_type": "execute_result",
          "data": {
            "text/plain": [
              "   SEC ST_GR  no_sam        pophat         lfhat        wrkhat  RSE_POP  \\\n",
              "0    1    G1    9158  1.441490e+08  5.757861e+07  6.177476e+07      0.0   \n",
              "1    1    G2    7202  2.483506e+07  1.126034e+07  1.227208e+07      0.0   \n",
              "2    1    G3   30359  3.901753e+08  1.825075e+08  1.958938e+08      0.0   \n",
              "3    2    G1    5207  3.279368e+07  1.292701e+07  1.403994e+07      0.0   \n",
              "4    2    G2    4584  4.521249e+06  1.873110e+06  2.078752e+06      0.0   \n",
              "5    2    G3   27291  2.086086e+08  8.846961e+07  9.655337e+07      0.0   \n",
              "\n",
              "          R1  RSE_R1         R2  RSE_R2  \n",
              "0  39.943801     0.0  42.854780     0.0  \n",
              "1  45.340498     0.0  49.414335     0.0  \n",
              "2  46.775767     0.0  50.206607     0.0  \n",
              "3  39.419213     0.0  42.812940     0.0  \n",
              "4  41.429033     0.0  45.977384     0.0  \n",
              "5  42.409386     0.0  46.284471     0.0  "
            ],
            "text/html": [
              "\n",
              "  <div id=\"df-e90f05e6-a239-42cb-b70b-c4a914e74b4c\">\n",
              "    <div class=\"colab-df-container\">\n",
              "      <div>\n",
              "<style scoped>\n",
              "    .dataframe tbody tr th:only-of-type {\n",
              "        vertical-align: middle;\n",
              "    }\n",
              "\n",
              "    .dataframe tbody tr th {\n",
              "        vertical-align: top;\n",
              "    }\n",
              "\n",
              "    .dataframe thead th {\n",
              "        text-align: right;\n",
              "    }\n",
              "</style>\n",
              "<table border=\"1\" class=\"dataframe\">\n",
              "  <thead>\n",
              "    <tr style=\"text-align: right;\">\n",
              "      <th></th>\n",
              "      <th>SEC</th>\n",
              "      <th>ST_GR</th>\n",
              "      <th>no_sam</th>\n",
              "      <th>pophat</th>\n",
              "      <th>lfhat</th>\n",
              "      <th>wrkhat</th>\n",
              "      <th>RSE_POP</th>\n",
              "      <th>R1</th>\n",
              "      <th>RSE_R1</th>\n",
              "      <th>R2</th>\n",
              "      <th>RSE_R2</th>\n",
              "    </tr>\n",
              "  </thead>\n",
              "  <tbody>\n",
              "    <tr>\n",
              "      <th>0</th>\n",
              "      <td>1</td>\n",
              "      <td>G1</td>\n",
              "      <td>9158</td>\n",
              "      <td>1.441490e+08</td>\n",
              "      <td>5.757861e+07</td>\n",
              "      <td>6.177476e+07</td>\n",
              "      <td>0.0</td>\n",
              "      <td>39.943801</td>\n",
              "      <td>0.0</td>\n",
              "      <td>42.854780</td>\n",
              "      <td>0.0</td>\n",
              "    </tr>\n",
              "    <tr>\n",
              "      <th>1</th>\n",
              "      <td>1</td>\n",
              "      <td>G2</td>\n",
              "      <td>7202</td>\n",
              "      <td>2.483506e+07</td>\n",
              "      <td>1.126034e+07</td>\n",
              "      <td>1.227208e+07</td>\n",
              "      <td>0.0</td>\n",
              "      <td>45.340498</td>\n",
              "      <td>0.0</td>\n",
              "      <td>49.414335</td>\n",
              "      <td>0.0</td>\n",
              "    </tr>\n",
              "    <tr>\n",
              "      <th>2</th>\n",
              "      <td>1</td>\n",
              "      <td>G3</td>\n",
              "      <td>30359</td>\n",
              "      <td>3.901753e+08</td>\n",
              "      <td>1.825075e+08</td>\n",
              "      <td>1.958938e+08</td>\n",
              "      <td>0.0</td>\n",
              "      <td>46.775767</td>\n",
              "      <td>0.0</td>\n",
              "      <td>50.206607</td>\n",
              "      <td>0.0</td>\n",
              "    </tr>\n",
              "    <tr>\n",
              "      <th>3</th>\n",
              "      <td>2</td>\n",
              "      <td>G1</td>\n",
              "      <td>5207</td>\n",
              "      <td>3.279368e+07</td>\n",
              "      <td>1.292701e+07</td>\n",
              "      <td>1.403994e+07</td>\n",
              "      <td>0.0</td>\n",
              "      <td>39.419213</td>\n",
              "      <td>0.0</td>\n",
              "      <td>42.812940</td>\n",
              "      <td>0.0</td>\n",
              "    </tr>\n",
              "    <tr>\n",
              "      <th>4</th>\n",
              "      <td>2</td>\n",
              "      <td>G2</td>\n",
              "      <td>4584</td>\n",
              "      <td>4.521249e+06</td>\n",
              "      <td>1.873110e+06</td>\n",
              "      <td>2.078752e+06</td>\n",
              "      <td>0.0</td>\n",
              "      <td>41.429033</td>\n",
              "      <td>0.0</td>\n",
              "      <td>45.977384</td>\n",
              "      <td>0.0</td>\n",
              "    </tr>\n",
              "    <tr>\n",
              "      <th>5</th>\n",
              "      <td>2</td>\n",
              "      <td>G3</td>\n",
              "      <td>27291</td>\n",
              "      <td>2.086086e+08</td>\n",
              "      <td>8.846961e+07</td>\n",
              "      <td>9.655337e+07</td>\n",
              "      <td>0.0</td>\n",
              "      <td>42.409386</td>\n",
              "      <td>0.0</td>\n",
              "      <td>46.284471</td>\n",
              "      <td>0.0</td>\n",
              "    </tr>\n",
              "  </tbody>\n",
              "</table>\n",
              "</div>\n",
              "      <button class=\"colab-df-convert\" onclick=\"convertToInteractive('df-e90f05e6-a239-42cb-b70b-c4a914e74b4c')\"\n",
              "              title=\"Convert this dataframe to an interactive table.\"\n",
              "              style=\"display:none;\">\n",
              "        \n",
              "  <svg xmlns=\"http://www.w3.org/2000/svg\" height=\"24px\"viewBox=\"0 0 24 24\"\n",
              "       width=\"24px\">\n",
              "    <path d=\"M0 0h24v24H0V0z\" fill=\"none\"/>\n",
              "    <path d=\"M18.56 5.44l.94 2.06.94-2.06 2.06-.94-2.06-.94-.94-2.06-.94 2.06-2.06.94zm-11 1L8.5 8.5l.94-2.06 2.06-.94-2.06-.94L8.5 2.5l-.94 2.06-2.06.94zm10 10l.94 2.06.94-2.06 2.06-.94-2.06-.94-.94-2.06-.94 2.06-2.06.94z\"/><path d=\"M17.41 7.96l-1.37-1.37c-.4-.4-.92-.59-1.43-.59-.52 0-1.04.2-1.43.59L10.3 9.45l-7.72 7.72c-.78.78-.78 2.05 0 2.83L4 21.41c.39.39.9.59 1.41.59.51 0 1.02-.2 1.41-.59l7.78-7.78 2.81-2.81c.8-.78.8-2.07 0-2.86zM5.41 20L4 18.59l7.72-7.72 1.47 1.35L5.41 20z\"/>\n",
              "  </svg>\n",
              "      </button>\n",
              "      \n",
              "  <style>\n",
              "    .colab-df-container {\n",
              "      display:flex;\n",
              "      flex-wrap:wrap;\n",
              "      gap: 12px;\n",
              "    }\n",
              "\n",
              "    .colab-df-convert {\n",
              "      background-color: #E8F0FE;\n",
              "      border: none;\n",
              "      border-radius: 50%;\n",
              "      cursor: pointer;\n",
              "      display: none;\n",
              "      fill: #1967D2;\n",
              "      height: 32px;\n",
              "      padding: 0 0 0 0;\n",
              "      width: 32px;\n",
              "    }\n",
              "\n",
              "    .colab-df-convert:hover {\n",
              "      background-color: #E2EBFA;\n",
              "      box-shadow: 0px 1px 2px rgba(60, 64, 67, 0.3), 0px 1px 3px 1px rgba(60, 64, 67, 0.15);\n",
              "      fill: #174EA6;\n",
              "    }\n",
              "\n",
              "    [theme=dark] .colab-df-convert {\n",
              "      background-color: #3B4455;\n",
              "      fill: #D2E3FC;\n",
              "    }\n",
              "\n",
              "    [theme=dark] .colab-df-convert:hover {\n",
              "      background-color: #434B5C;\n",
              "      box-shadow: 0px 1px 3px 1px rgba(0, 0, 0, 0.15);\n",
              "      filter: drop-shadow(0px 1px 2px rgba(0, 0, 0, 0.3));\n",
              "      fill: #FFFFFF;\n",
              "    }\n",
              "  </style>\n",
              "\n",
              "      <script>\n",
              "        const buttonEl =\n",
              "          document.querySelector('#df-e90f05e6-a239-42cb-b70b-c4a914e74b4c button.colab-df-convert');\n",
              "        buttonEl.style.display =\n",
              "          google.colab.kernel.accessAllowed ? 'block' : 'none';\n",
              "\n",
              "        async function convertToInteractive(key) {\n",
              "          const element = document.querySelector('#df-e90f05e6-a239-42cb-b70b-c4a914e74b4c');\n",
              "          const dataTable =\n",
              "            await google.colab.kernel.invokeFunction('convertToInteractive',\n",
              "                                                     [key], {});\n",
              "          if (!dataTable) return;\n",
              "\n",
              "          const docLinkHtml = 'Like what you see? Visit the ' +\n",
              "            '<a target=\"_blank\" href=https://colab.research.google.com/notebooks/data_table.ipynb>data table notebook</a>'\n",
              "            + ' to learn more about interactive tables.';\n",
              "          element.innerHTML = '';\n",
              "          dataTable['output_type'] = 'display_data';\n",
              "          await google.colab.output.renderOutput(dataTable, element);\n",
              "          const docLink = document.createElement('div');\n",
              "          docLink.innerHTML = docLinkHtml;\n",
              "          element.appendChild(docLink);\n",
              "        }\n",
              "      </script>\n",
              "    </div>\n",
              "  </div>\n",
              "  "
            ]
          },
          "metadata": {},
          "execution_count": 96
        }
      ]
    },
    {
      "cell_type": "code",
      "source": [
        "T1.to_csv('T1.csv')"
      ],
      "metadata": {
        "id": "CSjWqhzgCKGH"
      },
      "execution_count": 97,
      "outputs": []
    }
  ]
}